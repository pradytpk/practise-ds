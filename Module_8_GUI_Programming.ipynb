{
 "cells": [
  {
   "cell_type": "code",
   "execution_count": 1,
   "id": "c86b8c27-9774-40d7-937b-526047c0aab6",
   "metadata": {
    "tags": []
   },
   "outputs": [
    {
     "name": "stdout",
     "output_type": "stream",
     "text": [
      "Button clicked\n",
      "Button clicked\n"
     ]
    }
   ],
   "source": [
    "#Adding a button using Tkinter:\n",
    "import tkinter as tk\n",
    "\n",
    "def on_button_click():\n",
    "    print(\"Button clicked\")\n",
    "\n",
    "root = tk.Tk()\n",
    "root.title(\"Button Example\")\n",
    "\n",
    "button = tk.Button(root, text=\"Click me\", command=on_button_click)\n",
    "button.pack()\n",
    "\n",
    "root.mainloop()\n"
   ]
  },
  {
   "cell_type": "code",
   "execution_count": 3,
   "id": "94f2889b-5b4a-41ff-9e56-66a07012872e",
   "metadata": {
    "tags": []
   },
   "outputs": [],
   "source": [
    "# Creating a Spinbox widget using Tkinter:\n",
    "import tkinter as tk\n",
    "\n",
    "root = tk.Tk()\n",
    "root.title(\"Spinbox Example\")\n",
    "\n",
    "spinbox = tk.Spinbox(root, from_=0, to=10)\n",
    "spinbox.pack()\n",
    "\n",
    "root.mainloop()\n"
   ]
  },
  {
   "cell_type": "code",
   "execution_count": 4,
   "id": "a1184736-e3d3-4e7b-88b1-f2853aff51e3",
   "metadata": {
    "tags": []
   },
   "outputs": [
    {
     "name": "stdout",
     "output_type": "stream",
     "text": [
      "Username: fgdf\n",
      "Password: dfgdfg\n"
     ]
    }
   ],
   "source": [
    "# Creating a login page with Name and Password fields using Tkinter:\n",
    "import tkinter as tk\n",
    "\n",
    "def login():\n",
    "    username = entry_username.get()\n",
    "    password = entry_password.get()\n",
    "    print(\"Username:\", username)\n",
    "    print(\"Password:\", password)\n",
    "\n",
    "root = tk.Tk()\n",
    "root.title(\"Login Page\")\n",
    "\n",
    "label_username = tk.Label(root, text=\"Username:\")\n",
    "label_username.grid(row=0, column=0)\n",
    "entry_username = tk.Entry(root)\n",
    "entry_username.grid(row=0, column=1)\n",
    "\n",
    "label_password = tk.Label(root, text=\"Password:\")\n",
    "label_password.grid(row=1, column=0)\n",
    "entry_password = tk.Entry(root, show=\"*\")\n",
    "entry_password.grid(row=1, column=1)\n",
    "\n",
    "button_login = tk.Button(root, text=\"Login\", command=login)\n",
    "button_login.grid(row=2, columnspan=2)\n",
    "\n",
    "root.mainloop()\n"
   ]
  },
  {
   "cell_type": "code",
   "execution_count": 5,
   "id": "c23f1465-6ad1-4f05-95b8-745cb2adaa5d",
   "metadata": {
    "tags": []
   },
   "outputs": [
    {
     "name": "stdout",
     "output_type": "stream",
     "text": [
      "Selected: Second\n",
      "Selected: Third\n",
      "Selected: First\n"
     ]
    }
   ],
   "source": [
    "# Creating three radio buttons with fields First, Second, and Third using Tkinter:\n",
    "import tkinter as tk\n",
    "\n",
    "def on_radio_select():\n",
    "    print(\"Selected:\", var.get())\n",
    "\n",
    "root = tk.Tk()\n",
    "root.title(\"Radio Buttons Example\")\n",
    "\n",
    "var = tk.StringVar(value=\"First\")\n",
    "\n",
    "radio_button1 = tk.Radiobutton(root, text=\"First\", variable=var, value=\"First\", command=on_radio_select)\n",
    "radio_button1.pack()\n",
    "\n",
    "radio_button2 = tk.Radiobutton(root, text=\"Second\", variable=var, value=\"Second\", command=on_radio_select)\n",
    "radio_button2.pack()\n",
    "\n",
    "radio_button3 = tk.Radiobutton(root, text=\"Third\", variable=var, value=\"Third\", command=on_radio_select)\n",
    "radio_button3.pack()\n",
    "\n",
    "root.mainloop()\n"
   ]
  },
  {
   "cell_type": "code",
   "execution_count": 6,
   "id": "1259ac0d-28a0-4453-b468-3c9a8fca75b3",
   "metadata": {
    "tags": []
   },
   "outputs": [
    {
     "data": {
      "application/vnd.jupyter.widget-view+json": {
       "model_id": "4fab0d9030344dd68a8365ef67a9f14f",
       "version_major": 2,
       "version_minor": 0
      },
      "text/plain": [
       "Dropdown(description='City:', options=('Bangalore', 'Mangalore', 'Mysore'), value='Bangalore')"
      ]
     },
     "execution_count": 6,
     "metadata": {},
     "output_type": "execute_result"
    }
   ],
   "source": [
    "# Creating a dropdown list of city names using ipywidgets:\n",
    "import ipywidgets as widgets\n",
    "\n",
    "city_names = ['Bangalore', 'Mangalore', 'Mysore']\n",
    "\n",
    "dropdown = widgets.Dropdown(options=city_names, description='City:')\n",
    "dropdown\n"
   ]
  },
  {
   "cell_type": "code",
   "execution_count": null,
   "id": "bca5b756-b064-4571-9c68-82858a7ad26c",
   "metadata": {},
   "outputs": [],
   "source": []
  }
 ],
 "metadata": {
  "kernelspec": {
   "display_name": "Python 3 (ipykernel)",
   "language": "python",
   "name": "python3"
  },
  "language_info": {
   "codemirror_mode": {
    "name": "ipython",
    "version": 3
   },
   "file_extension": ".py",
   "mimetype": "text/x-python",
   "name": "python",
   "nbconvert_exporter": "python",
   "pygments_lexer": "ipython3",
   "version": "3.11.5"
  }
 },
 "nbformat": 4,
 "nbformat_minor": 5
}
